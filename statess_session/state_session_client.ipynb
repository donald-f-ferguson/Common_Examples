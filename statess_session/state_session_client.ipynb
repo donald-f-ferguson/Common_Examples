{
 "cells": [
  {
   "cell_type": "markdown",
   "id": "865359c6",
   "metadata": {},
   "source": [
    "# Stateful versus Stateless Simple Example"
   ]
  },
  {
   "cell_type": "markdown",
   "id": "6d2beb94",
   "metadata": {},
   "source": [
    "## Overview"
   ]
  },
  {
   "cell_type": "markdown",
   "id": "db93f7eb",
   "metadata": {},
   "source": [
    "There are three resource paths:\n",
    "1. POST ```/current_user``` simulates login and puts a ```user``` header in responses. Callers should use the header in subsequent calls.<br><br>\n",
    "2. GET ```/stateful_adder?added_value=nnn``` adds the integer ```nnn``` to the current value maintain in the per use session storage in the microservice.<br><br>\n",
    "2. GET ```/stateless_adder?added_value=nnn``` adds the integer ```nnn``` to the current value maintain in the per use session storage in the microservice. The state (current_value) is returned in a header that the caller must pass in subsequent calls."
   ]
  },
  {
   "cell_type": "markdown",
   "id": "a463ccbe",
   "metadata": {},
   "source": [
    "## Setup"
   ]
  },
  {
   "cell_type": "code",
   "execution_count": 1,
   "id": "138b3deb",
   "metadata": {},
   "outputs": [],
   "source": [
    "import requests"
   ]
  },
  {
   "cell_type": "code",
   "execution_count": 3,
   "id": "acf41459",
   "metadata": {},
   "outputs": [],
   "source": [
    "# Set this to the root URL used for starting the service.\n",
    "#\n",
    "base_url = \"http://0.0.0.0:5002\"\n",
    "\n",
    "# URL for setting user to simulate login.\n",
    "current_user_url = \"http://0.0.0.0:5002/current_user\"\n",
    "value_to_add=0\n",
    "\n",
    "# Urls for the various adders.\n",
    "stateful_url = f\"http://0.0.0.0:5002/stateful_adder?added_value={value_to_add}\"\n",
    "stateless_url = f\"http://0.0.0.0:5002/stateless_adder?added_value={value_to_add}\""
   ]
  },
  {
   "cell_type": "markdown",
   "id": "d90c49b3",
   "metadata": {},
   "source": [
    "## Stateful Client Example"
   ]
  },
  {
   "cell_type": "code",
   "execution_count": 4,
   "id": "bdcc7c66",
   "metadata": {},
   "outputs": [
    {
     "data": {
      "text/plain": [
       "<Response [201]>"
      ]
     },
     "execution_count": 4,
     "metadata": {},
     "output_type": "execute_result"
    }
   ],
   "source": [
    "# Set the user in the context and create session storage in server.\n",
    "#\n",
    "user_name = \"Don_Stateful\"\n",
    "\n",
    "body = {\n",
    "    \"user_name\": user_name\n",
    "}\n",
    "\n",
    "result = requests.post(\n",
    "    current_user_url,\n",
    "    json=body\n",
    ")\n",
    "\n",
    "result"
   ]
  },
  {
   "cell_type": "code",
   "execution_count": 5,
   "id": "7911581d",
   "metadata": {},
   "outputs": [
    {
     "data": {
      "text/plain": [
       "'Don_Stateful'"
      ]
     },
     "execution_count": 5,
     "metadata": {},
     "output_type": "execute_result"
    }
   ],
   "source": [
    "user_name = result.headers.get(\"user_name\", None)\n",
    "user_name"
   ]
  },
  {
   "cell_type": "code",
   "execution_count": 11,
   "id": "453b3550",
   "metadata": {},
   "outputs": [
    {
     "name": "stdout",
     "output_type": "stream",
     "text": [
      "Stateful URL =  http://0.0.0.0:5002/stateful_adder?added_value=20\n",
      "Result =  200\n",
      "Addition result =  {'new_value': 60}\n"
     ]
    }
   ],
   "source": [
    "# Testing adding. You can run this cell as many times as you want.\n",
    "#\n",
    "value_to_add = 20\n",
    "stateful_url = f\"http://0.0.0.0:5002/stateful_adder?added_value={value_to_add}\"\n",
    "headers = {\"user\": user_name}\n",
    "\n",
    "print(\"Stateful URL = \", stateful_url)\n",
    "\n",
    "result = requests.get(stateful_url, headers=headers)\n",
    "\n",
    "print(\"Result = \", result.status_code)\n",
    "\n",
    "if result.status_code == 200:\n",
    "    print(\"Addition result = \", result.json())\n",
    "    "
   ]
  },
  {
   "cell_type": "markdown",
   "id": "377c7760",
   "metadata": {},
   "source": [
    "## Stateless Example"
   ]
  },
  {
   "cell_type": "code",
   "execution_count": 12,
   "id": "c5b57995",
   "metadata": {},
   "outputs": [
    {
     "data": {
      "text/plain": [
       "<Response [201]>"
      ]
     },
     "execution_count": 12,
     "metadata": {},
     "output_type": "execute_result"
    }
   ],
   "source": [
    "# Set the user in the context and create session storage in server.\n",
    "#\n",
    "user_name = \"Don_Stateless\"\n",
    "\n",
    "body = {\n",
    "    \"user_name\": user_name\n",
    "}\n",
    "\n",
    "result = requests.post(\n",
    "    current_user_url,\n",
    "    json=body\n",
    ")\n",
    "\n",
    "result"
   ]
  },
  {
   "cell_type": "code",
   "execution_count": 13,
   "id": "11d618b0",
   "metadata": {},
   "outputs": [
    {
     "data": {
      "text/plain": [
       "'Don_Stateless'"
      ]
     },
     "execution_count": 13,
     "metadata": {},
     "output_type": "execute_result"
    }
   ],
   "source": [
    "user_name = result.headers.get(\"user_name\", None)\n",
    "user_name"
   ]
  },
  {
   "cell_type": "code",
   "execution_count": 14,
   "id": "ff9ffaf9",
   "metadata": {},
   "outputs": [],
   "source": [
    "# Set the user\n",
    "headers = {\"user\": user_name}"
   ]
  },
  {
   "cell_type": "code",
   "execution_count": 16,
   "id": "fd5cb815",
   "metadata": {},
   "outputs": [
    {
     "name": "stdout",
     "output_type": "stream",
     "text": [
      "Stateless URL =  http://0.0.0.0:5002/stateless_adder?added_value=20\n",
      "Result =  200\n",
      "Addition result =  {'new_value': 40}\n"
     ]
    }
   ],
   "source": [
    "# Testing adding. You can run this cell as many times as you want.\n",
    "# Note that I need to pass the header back.\n",
    "\n",
    "value_to_add = 20\n",
    "\n",
    "stateless_url = f\"http://0.0.0.0:5002/stateless_adder?added_value={value_to_add}\"\n",
    "\n",
    "print(\"Stateless URL = \", stateless_url)\n",
    "\n",
    "result = requests.get(stateless_url, headers=headers)\n",
    "\n",
    "print(\"Result = \", result.status_code)\n",
    "\n",
    "if result.status_code == 200:\n",
    "    print(\"Addition result = \", result.json())\n",
    "    headers[\"current_value\"] = result.headers.get(\"current_value\")"
   ]
  },
  {
   "cell_type": "code",
   "execution_count": null,
   "id": "70b5adfa",
   "metadata": {},
   "outputs": [],
   "source": []
  },
  {
   "cell_type": "code",
   "execution_count": null,
   "id": "d9c7aa19",
   "metadata": {},
   "outputs": [],
   "source": []
  }
 ],
 "metadata": {
  "kernelspec": {
   "display_name": "Python 3 (ipykernel)",
   "language": "python",
   "name": "python3"
  },
  "language_info": {
   "codemirror_mode": {
    "name": "ipython",
    "version": 3
   },
   "file_extension": ".py",
   "mimetype": "text/x-python",
   "name": "python",
   "nbconvert_exporter": "python",
   "pygments_lexer": "ipython3",
   "version": "3.9.12"
  },
  "toc": {
   "base_numbering": 1,
   "nav_menu": {},
   "number_sections": true,
   "sideBar": true,
   "skip_h1_title": false,
   "title_cell": "Table of Contents",
   "title_sidebar": "Contents",
   "toc_cell": false,
   "toc_position": {},
   "toc_section_display": true,
   "toc_window_display": false
  }
 },
 "nbformat": 4,
 "nbformat_minor": 5
}
