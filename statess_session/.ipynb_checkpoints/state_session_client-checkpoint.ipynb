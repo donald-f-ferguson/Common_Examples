{
 "cells": [
  {
   "cell_type": "markdown",
   "id": "a73930bd",
   "metadata": {},
   "source": [
    "# Stateful versus Stateless Simple Example"
   ]
  },
  {
   "cell_type": "markdown",
   "id": "5f16d132",
   "metadata": {},
   "source": [
    "## Overview"
   ]
  },
  {
   "cell_type": "markdown",
   "id": "9445562a",
   "metadata": {},
   "source": [
    "There are three resource paths:\n",
    "1. POST ```/current_user``` simulates login and puts a ```user``` header in responses. Callers should use the header in subsequent calls.<br><br>\n",
    "2. GET ```/stateful_adder?added_value=nnn``` adds the integer ```nnn``` to the current value maintain in the per use session storage in the microservice.<br><br>\n",
    "2. GET ```/stateless_adder?added_value=nnn``` adds the integer ```nnn``` to the current value maintain in the per use session storage in the microservice. The state (current_value) is returned in a header that the caller must pass in subsequent calls."
   ]
  },
  {
   "cell_type": "markdown",
   "id": "5c510447",
   "metadata": {},
   "source": [
    "## Setup"
   ]
  },
  {
   "cell_type": "code",
   "execution_count": 1,
   "id": "9afeb4e7",
   "metadata": {},
   "outputs": [],
   "source": [
    "import requests"
   ]
  },
  {
   "cell_type": "code",
   "execution_count": 30,
   "id": "2c69fa99",
   "metadata": {},
   "outputs": [],
   "source": [
    "# Set this to the root URL used for starting the service.\n",
    "#\n",
    "base_url = \"http://0.0.0.0:5002\"\n",
    "\n",
    "# URL for setting user to simulate login.\n",
    "current_user_url = \"http://0.0.0.0:5002/current_user\"\n",
    "\n",
    "\n",
    "# Urls for the various adders.\n",
    "stateful_url = f\"http://0.0.0.0:5002/stateful_adder?added_value={value_to_add}\"\n",
    "stateless_url = f\"http://0.0.0.0:5002/stateless_adder?added_value={value_to_add}\""
   ]
  },
  {
   "cell_type": "markdown",
   "id": "83d5da1b",
   "metadata": {},
   "source": [
    "## Stateful Client Example"
   ]
  },
  {
   "cell_type": "code",
   "execution_count": 19,
   "id": "d5b22717",
   "metadata": {},
   "outputs": [
    {
     "data": {
      "text/plain": [
       "<Response [201]>"
      ]
     },
     "execution_count": 19,
     "metadata": {},
     "output_type": "execute_result"
    }
   ],
   "source": [
    "# Set the user in the context and create session storage in server.\n",
    "#\n",
    "user_name = \"Don_Stateful\"\n",
    "\n",
    "body = {\n",
    "    \"user_name\": user_name\n",
    "}\n",
    "\n",
    "result = requests.post(\n",
    "    current_user_url,\n",
    "    json=body\n",
    ")\n",
    "\n",
    "result"
   ]
  },
  {
   "cell_type": "code",
   "execution_count": 20,
   "id": "e0ef6738",
   "metadata": {},
   "outputs": [
    {
     "data": {
      "text/plain": [
       "'Don_Stateful'"
      ]
     },
     "execution_count": 20,
     "metadata": {},
     "output_type": "execute_result"
    }
   ],
   "source": [
    "user_name = result.headers.get(\"user_name\", None)\n",
    "user_name"
   ]
  },
  {
   "cell_type": "code",
   "execution_count": 23,
   "id": "2bf652ce",
   "metadata": {},
   "outputs": [
    {
     "name": "stdout",
     "output_type": "stream",
     "text": [
      "Stateful URL =  http://0.0.0.0:5002/stateful_adder?added_value=20\n",
      "Result =  200\n",
      "Addition result =  {'new_value': 60}\n"
     ]
    }
   ],
   "source": [
    "# Testing adding. You can run this cell as many times as you want.\n",
    "#\n",
    "value_to_add = 20\n",
    "\n",
    "headers = {\"user\": user_name}\n",
    "\n",
    "print(\"Stateful URL = \", stateful_url)\n",
    "\n",
    "result = requests.get(stateful_url, headers=headers)\n",
    "\n",
    "print(\"Result = \", result.status_code)\n",
    "\n",
    "if result.status_code == 200:\n",
    "    print(\"Addition result = \", result.json())\n",
    "    "
   ]
  },
  {
   "cell_type": "markdown",
   "id": "9fb5df10",
   "metadata": {},
   "source": [
    "## Stateless Example"
   ]
  },
  {
   "cell_type": "code",
   "execution_count": 24,
   "id": "803f88ef",
   "metadata": {},
   "outputs": [
    {
     "data": {
      "text/plain": [
       "<Response [201]>"
      ]
     },
     "execution_count": 24,
     "metadata": {},
     "output_type": "execute_result"
    }
   ],
   "source": [
    "# Set the user in the context and create session storage in server.\n",
    "#\n",
    "user_name = \"Don_Stateless\"\n",
    "\n",
    "body = {\n",
    "    \"user_name\": user_name\n",
    "}\n",
    "\n",
    "result = requests.post(\n",
    "    current_user_url,\n",
    "    json=body\n",
    ")\n",
    "\n",
    "result"
   ]
  },
  {
   "cell_type": "code",
   "execution_count": 25,
   "id": "38a1c732",
   "metadata": {},
   "outputs": [
    {
     "data": {
      "text/plain": [
       "'Don_Stateless'"
      ]
     },
     "execution_count": 25,
     "metadata": {},
     "output_type": "execute_result"
    }
   ],
   "source": [
    "user_name = result.headers.get(\"user_name\", None)\n",
    "user_name"
   ]
  },
  {
   "cell_type": "code",
   "execution_count": 34,
   "id": "3895a424",
   "metadata": {},
   "outputs": [],
   "source": [
    "# Set the user\n",
    "headers = {\"user\": user_name}"
   ]
  },
  {
   "cell_type": "code",
   "execution_count": 38,
   "id": "b67cd7ee",
   "metadata": {},
   "outputs": [
    {
     "name": "stdout",
     "output_type": "stream",
     "text": [
      "Stateless URL =  http://0.0.0.0:5002/stateless_adder?added_value=20\n",
      "Result =  200\n",
      "Addition result =  {'new_value': 80}\n"
     ]
    }
   ],
   "source": [
    "# Testing adding. You can run this cell as many times as you want.\n",
    "# Note that I need to pass the header back.\n",
    "\n",
    "value_to_add = 20\n",
    "\n",
    "print(\"Stateless URL = \", stateless_url)\n",
    "\n",
    "result = requests.get(stateless_url, headers=headers)\n",
    "\n",
    "print(\"Result = \", result.status_code)\n",
    "\n",
    "if result.status_code == 200:\n",
    "    print(\"Addition result = \", result.json())\n",
    "    headers[\"current_value\"] = result.headers.get(\"current_value\")"
   ]
  },
  {
   "cell_type": "code",
   "execution_count": null,
   "id": "040b8bfb",
   "metadata": {},
   "outputs": [],
   "source": []
  },
  {
   "cell_type": "code",
   "execution_count": null,
   "id": "771c958b",
   "metadata": {},
   "outputs": [],
   "source": []
  }
 ],
 "metadata": {
  "kernelspec": {
   "display_name": "Python 3 (ipykernel)",
   "language": "python",
   "name": "python3"
  },
  "language_info": {
   "codemirror_mode": {
    "name": "ipython",
    "version": 3
   },
   "file_extension": ".py",
   "mimetype": "text/x-python",
   "name": "python",
   "nbconvert_exporter": "python",
   "pygments_lexer": "ipython3",
   "version": "3.11.4"
  }
 },
 "nbformat": 4,
 "nbformat_minor": 5
}
